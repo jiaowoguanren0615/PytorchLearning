{
 "cells": [
  {
   "cell_type": "code",
   "execution_count": 1,
   "id": "6db47208-494f-49a3-aaff-1d8de59919c7",
   "metadata": {},
   "outputs": [],
   "source": [
    "import torch\n",
    "import sys\n",
    "import os, json\n",
    "from numpy import interp\n",
    "import warnings\n",
    "import torch.nn as nn\n",
    "from sklearn.model_selection import train_test_split\n",
    "from torch.utils.data import DataLoader, Dataset\n",
    "from tqdm import tqdm\n",
    "from torchinfo import summary\n",
    "from sklearn.metrics import auc, f1_score, roc_curve, classification_report, confusion_matrix\n",
    "from torch.utils.tensorboard import SummaryWriter\n",
    "from torch.optim.lr_scheduler import CosineAnnealingLR\n",
    "import matplotlib.pyplot as plt\n",
    "import seaborn as sns\n",
    "import numpy as np\n",
    "from itertools import cycle\n",
    "import pandas as pd"
   ]
  },
  {
   "cell_type": "code",
   "execution_count": 2,
   "id": "671979bc-5472-4b85-9b42-6736856e80c5",
   "metadata": {},
   "outputs": [
    {
     "data": {
      "text/html": [
       "<div>\n",
       "<style scoped>\n",
       "    .dataframe tbody tr th:only-of-type {\n",
       "        vertical-align: middle;\n",
       "    }\n",
       "\n",
       "    .dataframe tbody tr th {\n",
       "        vertical-align: top;\n",
       "    }\n",
       "\n",
       "    .dataframe thead th {\n",
       "        text-align: right;\n",
       "    }\n",
       "</style>\n",
       "<table border=\"1\" class=\"dataframe\">\n",
       "  <thead>\n",
       "    <tr style=\"text-align: right;\">\n",
       "      <th></th>\n",
       "      <th>pH</th>\n",
       "      <th>Temprature</th>\n",
       "      <th>Taste</th>\n",
       "      <th>Odor</th>\n",
       "      <th>Fat</th>\n",
       "      <th>Turbidity</th>\n",
       "      <th>Colour</th>\n",
       "      <th>Grade</th>\n",
       "    </tr>\n",
       "  </thead>\n",
       "  <tbody>\n",
       "    <tr>\n",
       "      <th>0</th>\n",
       "      <td>6.6</td>\n",
       "      <td>35</td>\n",
       "      <td>1</td>\n",
       "      <td>0</td>\n",
       "      <td>1</td>\n",
       "      <td>0</td>\n",
       "      <td>254</td>\n",
       "      <td>high</td>\n",
       "    </tr>\n",
       "    <tr>\n",
       "      <th>1</th>\n",
       "      <td>6.6</td>\n",
       "      <td>36</td>\n",
       "      <td>0</td>\n",
       "      <td>1</td>\n",
       "      <td>0</td>\n",
       "      <td>1</td>\n",
       "      <td>253</td>\n",
       "      <td>high</td>\n",
       "    </tr>\n",
       "    <tr>\n",
       "      <th>2</th>\n",
       "      <td>8.5</td>\n",
       "      <td>70</td>\n",
       "      <td>1</td>\n",
       "      <td>1</td>\n",
       "      <td>1</td>\n",
       "      <td>1</td>\n",
       "      <td>246</td>\n",
       "      <td>low</td>\n",
       "    </tr>\n",
       "    <tr>\n",
       "      <th>3</th>\n",
       "      <td>9.5</td>\n",
       "      <td>34</td>\n",
       "      <td>1</td>\n",
       "      <td>1</td>\n",
       "      <td>0</td>\n",
       "      <td>1</td>\n",
       "      <td>255</td>\n",
       "      <td>low</td>\n",
       "    </tr>\n",
       "    <tr>\n",
       "      <th>4</th>\n",
       "      <td>6.6</td>\n",
       "      <td>37</td>\n",
       "      <td>0</td>\n",
       "      <td>0</td>\n",
       "      <td>0</td>\n",
       "      <td>0</td>\n",
       "      <td>255</td>\n",
       "      <td>medium</td>\n",
       "    </tr>\n",
       "  </tbody>\n",
       "</table>\n",
       "</div>"
      ],
      "text/plain": [
       "    pH  Temprature  Taste  Odor  Fat   Turbidity  Colour   Grade\n",
       "0  6.6          35      1     0     1          0     254    high\n",
       "1  6.6          36      0     1     0          1     253    high\n",
       "2  8.5          70      1     1     1          1     246     low\n",
       "3  9.5          34      1     1     0          1     255     low\n",
       "4  6.6          37      0     0     0          0     255  medium"
      ]
     },
     "execution_count": 2,
     "metadata": {},
     "output_type": "execute_result"
    }
   ],
   "source": [
    "df = pd.read_csv('./milknew.csv')\n",
    "df.head()"
   ]
  },
  {
   "cell_type": "code",
   "execution_count": 3,
   "id": "28f304b3-2455-4208-afce-26224a2118d3",
   "metadata": {},
   "outputs": [
    {
     "data": {
      "text/plain": [
       "array(['high', 'low', 'medium'], dtype=object)"
      ]
     },
     "execution_count": 3,
     "metadata": {},
     "output_type": "execute_result"
    }
   ],
   "source": [
    "df['Grade'].unique()"
   ]
  },
  {
   "cell_type": "code",
   "execution_count": 4,
   "id": "6e3f9d3c-9e02-431a-b695-5f881c3f9ee6",
   "metadata": {},
   "outputs": [],
   "source": [
    "target_dict = {k: v for k, v in enumerate(df['Grade'].unique())}\n",
    "class_indices = {k: v for v, k in enumerate(df['Grade'].unique())}\n",
    "\n",
    "json_str = json.dumps({v: k for k, v in class_indices.items()}, indent=4)\n",
    "with open('./classes_indices.json', 'w') as json_file:\n",
    "    json_file.write(json_str)"
   ]
  },
  {
   "cell_type": "code",
   "execution_count": 8,
   "id": "c4547ac4-a76e-4296-a51f-1eecb9dccfe4",
   "metadata": {},
   "outputs": [],
   "source": [
    "df['Grade'] = df['Grade'].map(class_indices)"
   ]
  },
  {
   "cell_type": "code",
   "execution_count": 9,
   "id": "731e3649-6159-4b54-ab9c-b323d19bfac7",
   "metadata": {},
   "outputs": [
    {
     "data": {
      "text/html": [
       "<div>\n",
       "<style scoped>\n",
       "    .dataframe tbody tr th:only-of-type {\n",
       "        vertical-align: middle;\n",
       "    }\n",
       "\n",
       "    .dataframe tbody tr th {\n",
       "        vertical-align: top;\n",
       "    }\n",
       "\n",
       "    .dataframe thead th {\n",
       "        text-align: right;\n",
       "    }\n",
       "</style>\n",
       "<table border=\"1\" class=\"dataframe\">\n",
       "  <thead>\n",
       "    <tr style=\"text-align: right;\">\n",
       "      <th></th>\n",
       "      <th>pH</th>\n",
       "      <th>Temprature</th>\n",
       "      <th>Taste</th>\n",
       "      <th>Odor</th>\n",
       "      <th>Fat</th>\n",
       "      <th>Turbidity</th>\n",
       "      <th>Colour</th>\n",
       "      <th>Grade</th>\n",
       "    </tr>\n",
       "  </thead>\n",
       "  <tbody>\n",
       "    <tr>\n",
       "      <th>0</th>\n",
       "      <td>6.6</td>\n",
       "      <td>35</td>\n",
       "      <td>1</td>\n",
       "      <td>0</td>\n",
       "      <td>1</td>\n",
       "      <td>0</td>\n",
       "      <td>254</td>\n",
       "      <td>0</td>\n",
       "    </tr>\n",
       "    <tr>\n",
       "      <th>1</th>\n",
       "      <td>6.6</td>\n",
       "      <td>36</td>\n",
       "      <td>0</td>\n",
       "      <td>1</td>\n",
       "      <td>0</td>\n",
       "      <td>1</td>\n",
       "      <td>253</td>\n",
       "      <td>0</td>\n",
       "    </tr>\n",
       "    <tr>\n",
       "      <th>2</th>\n",
       "      <td>8.5</td>\n",
       "      <td>70</td>\n",
       "      <td>1</td>\n",
       "      <td>1</td>\n",
       "      <td>1</td>\n",
       "      <td>1</td>\n",
       "      <td>246</td>\n",
       "      <td>1</td>\n",
       "    </tr>\n",
       "    <tr>\n",
       "      <th>3</th>\n",
       "      <td>9.5</td>\n",
       "      <td>34</td>\n",
       "      <td>1</td>\n",
       "      <td>1</td>\n",
       "      <td>0</td>\n",
       "      <td>1</td>\n",
       "      <td>255</td>\n",
       "      <td>1</td>\n",
       "    </tr>\n",
       "    <tr>\n",
       "      <th>4</th>\n",
       "      <td>6.6</td>\n",
       "      <td>37</td>\n",
       "      <td>0</td>\n",
       "      <td>0</td>\n",
       "      <td>0</td>\n",
       "      <td>0</td>\n",
       "      <td>255</td>\n",
       "      <td>2</td>\n",
       "    </tr>\n",
       "  </tbody>\n",
       "</table>\n",
       "</div>"
      ],
      "text/plain": [
       "    pH  Temprature  Taste  Odor  Fat   Turbidity  Colour  Grade\n",
       "0  6.6          35      1     0     1          0     254      0\n",
       "1  6.6          36      0     1     0          1     253      0\n",
       "2  8.5          70      1     1     1          1     246      1\n",
       "3  9.5          34      1     1     0          1     255      1\n",
       "4  6.6          37      0     0     0          0     255      2"
      ]
     },
     "execution_count": 9,
     "metadata": {},
     "output_type": "execute_result"
    }
   ],
   "source": [
    "df.head()"
   ]
  },
  {
   "cell_type": "code",
   "execution_count": 10,
   "id": "d3b1d656-6ccc-423c-a52d-2459de349f21",
   "metadata": {},
   "outputs": [
    {
     "name": "stdout",
     "output_type": "stream",
     "text": [
      "<class 'pandas.core.frame.DataFrame'>\n",
      "RangeIndex: 1059 entries, 0 to 1058\n",
      "Data columns (total 8 columns):\n",
      " #   Column      Non-Null Count  Dtype  \n",
      "---  ------      --------------  -----  \n",
      " 0   pH          1059 non-null   float64\n",
      " 1   Temprature  1059 non-null   int64  \n",
      " 2   Taste       1059 non-null   int64  \n",
      " 3   Odor        1059 non-null   int64  \n",
      " 4   Fat         1059 non-null   int64  \n",
      " 5   Turbidity   1059 non-null   int64  \n",
      " 6   Colour      1059 non-null   int64  \n",
      " 7   Grade       1059 non-null   int64  \n",
      "dtypes: float64(1), int64(7)\n",
      "memory usage: 66.3 KB\n"
     ]
    }
   ],
   "source": [
    "df.info()"
   ]
  },
  {
   "cell_type": "code",
   "execution_count": 11,
   "id": "56084fb2-df3f-444f-85b3-d9f216b5243f",
   "metadata": {},
   "outputs": [],
   "source": [
    "train_df, valid_df = train_test_split(df, test_size=0.3)"
   ]
  },
  {
   "cell_type": "code",
   "execution_count": 19,
   "id": "849dcb76-2556-4d8b-a2fb-9fafbddaf7fb",
   "metadata": {},
   "outputs": [],
   "source": [
    "class MyDataset(Dataset):\n",
    "    \n",
    "    def __init__(self, df):\n",
    "        \n",
    "        self.features = torch.FloatTensor(np.array(df.drop(['Grade'], axis=1)))\n",
    "        self.targets = torch.LongTensor(np.array(df['Grade']))\n",
    "    \n",
    "    def __getitem__(self, idx):\n",
    "        x_sample = self.features[idx]\n",
    "        y_sample = self.targets[idx]\n",
    "        return x_sample, y_sample\n",
    "    \n",
    "    def __len__(self):\n",
    "        return self.features.shape[0]"
   ]
  },
  {
   "cell_type": "code",
   "execution_count": 20,
   "id": "30ee1645-1097-4a78-8e0d-082a359946b0",
   "metadata": {},
   "outputs": [],
   "source": [
    "train_set = MyDataset(train_df)\n",
    "valid_set = MyDataset(valid_df)\n",
    "\n",
    "train_loader = DataLoader(train_set, batch_size=16, shuffle=True)\n",
    "valid_loader = DataLoader(valid_set, batch_size=16, shuffle=False)"
   ]
  },
  {
   "cell_type": "code",
   "execution_count": 21,
   "id": "4ec9507c-8530-4433-a1f7-9e47a781a3c5",
   "metadata": {},
   "outputs": [
    {
     "name": "stdout",
     "output_type": "stream",
     "text": [
      "torch.Size([16, 7])\n",
      "torch.Size([16])\n"
     ]
    }
   ],
   "source": [
    "for x, y in train_loader:\n",
    "    print(x.size())\n",
    "    print(y.size())\n",
    "    break"
   ]
  },
  {
   "cell_type": "code",
   "execution_count": 22,
   "id": "c1b9daea-2bad-4ef4-ad86-ebb3c43ed8c7",
   "metadata": {},
   "outputs": [],
   "source": [
    "model = nn.Sequential(\n",
    "    nn.Linear(7, 32),\n",
    "    nn.BatchNorm1d(32),\n",
    "    nn.ReLU(inplace=True),\n",
    "    nn.Linear(32, 64),\n",
    "    nn.ReLU(inplace=True),\n",
    "    nn.Linear(64, 128),\n",
    "    nn.ReLU(inplace=True),\n",
    "    nn.Linear(128, 3),\n",
    ")"
   ]
  },
  {
   "cell_type": "code",
   "execution_count": 23,
   "id": "dd7230ae-017a-4244-9ac0-1e8076f875d7",
   "metadata": {},
   "outputs": [
    {
     "data": {
      "text/plain": [
       "==========================================================================================\n",
       "Layer (type:depth-idx)                   Output Shape              Param #\n",
       "==========================================================================================\n",
       "Sequential                               [16, 3]                   --\n",
       "├─Linear: 1-1                            [16, 32]                  256\n",
       "├─BatchNorm1d: 1-2                       [16, 32]                  64\n",
       "├─ReLU: 1-3                              [16, 32]                  --\n",
       "├─Linear: 1-4                            [16, 64]                  2,112\n",
       "├─ReLU: 1-5                              [16, 64]                  --\n",
       "├─Linear: 1-6                            [16, 128]                 8,320\n",
       "├─ReLU: 1-7                              [16, 128]                 --\n",
       "├─Linear: 1-8                            [16, 3]                   387\n",
       "==========================================================================================\n",
       "Total params: 11,139\n",
       "Trainable params: 11,139\n",
       "Non-trainable params: 0\n",
       "Total mult-adds (M): 0.18\n",
       "==========================================================================================\n",
       "Input size (MB): 0.00\n",
       "Forward/backward pass size (MB): 0.03\n",
       "Params size (MB): 0.04\n",
       "Estimated Total Size (MB): 0.08\n",
       "=========================================================================================="
      ]
     },
     "execution_count": 23,
     "metadata": {},
     "output_type": "execute_result"
    }
   ],
   "source": [
    "summary(model, input_size=(16, 7))"
   ]
  },
  {
   "cell_type": "code",
   "execution_count": 39,
   "id": "5517fa45-1620-4e53-996f-5d4c945f71f2",
   "metadata": {},
   "outputs": [],
   "source": [
    "def train_step(model, optimizer, data_loader, epoch, device):\n",
    "    \n",
    "    model.train()\n",
    "    \n",
    "    model.to(device)\n",
    "    \n",
    "    loss_fn = nn.CrossEntropyLoss()\n",
    "    \n",
    "    train_loss, sample, train_acc = 0, 0, 0\n",
    "    \n",
    "    train_bar = tqdm(data_loader, file=sys.stdout, colour='red')\n",
    "    \n",
    "    for step, data in enumerate(train_bar):\n",
    "        features, targets = data\n",
    "        \n",
    "        sample += features.shape[0]\n",
    "        features = features.to(device)\n",
    "        targets = targets.to(device)\n",
    "        \n",
    "        optimizer.zero_grad()\n",
    "        \n",
    "        outputs = model(features)\n",
    "        \n",
    "        loss = loss_fn(outputs, targets)\n",
    "        train_loss += loss.item()\n",
    "        \n",
    "        train_acc += (torch.argmax(outputs, dim=1) == targets).sum().item()\n",
    "        \n",
    "        loss.backward()\n",
    "        optimizer.step()\n",
    "        \n",
    "        train_bar.desc = f'[train epoch {epoch}], loss is {train_loss/(step + 1)}, accuracy is {train_acc/sample}'\n",
    "    \n",
    "    return round(train_loss/(step + 1), 4), round((train_acc/sample), 4)"
   ]
  },
  {
   "cell_type": "code",
   "execution_count": 40,
   "id": "da3b90f0-0c91-4f75-8286-b1bba88c6152",
   "metadata": {},
   "outputs": [],
   "source": [
    "@torch.no_grad()\n",
    "def valid_step(model, data_loader, epoch, device):\n",
    "    \n",
    "    model.eval()\n",
    "    model.to(device)\n",
    "    loss_fn = nn.CrossEntropyLoss()\n",
    "    \n",
    "    valid_loss, sample, valid_acc = 0, 0, 0\n",
    "    valid_bar = tqdm(data_loader, file=sys.stdout, colour='red')\n",
    "    \n",
    "    for step, data in enumerate(valid_bar):\n",
    "        features, targets = data\n",
    "        \n",
    "        sample += features.shape[0]\n",
    "        features = features.to(device)\n",
    "        targets = targets.to(device)\n",
    "        \n",
    "        outputs = model(features)\n",
    "        \n",
    "        loss = loss_fn(outputs, targets)\n",
    "        valid_loss += loss.item()\n",
    "        \n",
    "        valid_acc += (torch.argmax(outputs, dim=1) == targets).sum().item()\n",
    "        \n",
    "        valid_bar.desc = f'[valid epoch {epoch}], loss is {valid_loss/(step + 1)}, accuracy is {valid_acc/sample}'\n",
    "    \n",
    "    return round(valid_loss/(step + 1), 4), round((valid_acc/sample), 4)"
   ]
  },
  {
   "cell_type": "code",
   "execution_count": 41,
   "id": "55ecdb3e-1a1d-4983-a2f0-04e957628286",
   "metadata": {},
   "outputs": [],
   "source": [
    "optimizer = torch.optim.Adam(model.parameters(), lr=0.001)\n",
    "epochs = 20\n",
    "device = 'cuda' if torch.cuda.is_available() else 'cpu'"
   ]
  },
  {
   "cell_type": "code",
   "execution_count": 42,
   "id": "33ab44f8-2ecc-4746-a729-8c39d181d14b",
   "metadata": {},
   "outputs": [
    {
     "name": "stdout",
     "output_type": "stream",
     "text": [
      "[train epoch 0], loss is 0.18750970644202639, accuracy is 0.921727395411606: 100%|\u001b[31m████\u001b[0m| 47/47 [00:00<00:00, 310.96it/s]\u001b[0m\n",
      "[valid epoch 0], loss is 1.3591233611106872, accuracy is 0.5660377358490566: 100%|\u001b[31m███\u001b[0m| 20/20 [00:00<00:00, 1111.19it/s]\u001b[0m\n",
      "[train epoch 1], loss is 0.1350278789177537, accuracy is 0.9392712550607287: 100%|\u001b[31m████\u001b[0m| 47/47 [00:00<00:00, 348.15it/s]\u001b[0m\n",
      "[valid epoch 1], loss is 0.70108104031533, accuracy is 0.8490566037735849: 100%|\u001b[31m██████\u001b[0m| 20/20 [00:00<00:00, 999.97it/s]\u001b[0m\n",
      "[train epoch 2], loss is 0.1936254583774729, accuracy is 0.9082321187584346: 100%|\u001b[31m████\u001b[0m| 47/47 [00:00<00:00, 356.06it/s]\u001b[0m\n",
      "[valid epoch 2], loss is 0.17230083048343658, accuracy is 0.9276729559748428: 100%|\u001b[31m██\u001b[0m| 20/20 [00:00<00:00, 1111.13it/s]\u001b[0m\n",
      "[train epoch 3], loss is 0.15993414375376194, accuracy is 0.9406207827260459: 100%|\u001b[31m███\u001b[0m| 47/47 [00:00<00:00, 339.59it/s]\u001b[0m\n",
      "[valid epoch 3], loss is 0.3427081318572164, accuracy is 0.8584905660377359: 100%|\u001b[31m████\u001b[0m| 20/20 [00:00<00:00, 909.11it/s]\u001b[0m\n",
      "[train epoch 4], loss is 0.174778638566111, accuracy is 0.9365721997300944: 100%|\u001b[31m█████\u001b[0m| 47/47 [00:00<00:00, 370.08it/s]\u001b[0m\n",
      "[valid epoch 4], loss is 0.2599634885322303, accuracy is 0.889937106918239: 100%|\u001b[31m█████\u001b[0m| 20/20 [00:00<00:00, 769.22it/s]\u001b[0m\n",
      "[train epoch 5], loss is 0.16424457950794952, accuracy is 0.9338731443994602: 100%|\u001b[31m███\u001b[0m| 47/47 [00:00<00:00, 328.67it/s]\u001b[0m\n",
      "[valid epoch 5], loss is 0.1894274301477708, accuracy is 0.8836477987421384: 100%|\u001b[31m████\u001b[0m| 20/20 [00:00<00:00, 740.72it/s]\u001b[0m\n",
      "[train epoch 6], loss is 0.2004066531130291, accuracy is 0.9244264507422402: 100%|\u001b[31m████\u001b[0m| 47/47 [00:00<00:00, 345.60it/s]\u001b[0m\n",
      "[valid epoch 6], loss is 0.5557575630024075, accuracy is 0.7987421383647799: 100%|\u001b[31m███\u001b[0m| 20/20 [00:00<00:00, 1176.56it/s]\u001b[0m\n",
      "[train epoch 7], loss is 0.159686185340298, accuracy is 0.9392712550607287: 100%|\u001b[31m█████\u001b[0m| 47/47 [00:00<00:00, 381.08it/s]\u001b[0m\n",
      "[valid epoch 7], loss is 0.12379736099392176, accuracy is 0.9716981132075472: 100%|\u001b[31m███\u001b[0m| 20/20 [00:00<00:00, 909.16it/s]\u001b[0m\n",
      "[train epoch 8], loss is 0.14303180448552397, accuracy is 0.941970310391363: 100%|\u001b[31m████\u001b[0m| 47/47 [00:00<00:00, 370.08it/s]\u001b[0m\n",
      "[valid epoch 8], loss is 0.08515800065360964, accuracy is 0.9591194968553459: 100%|\u001b[31m███\u001b[0m| 20/20 [00:00<00:00, 869.55it/s]\u001b[0m\n",
      "[train epoch 9], loss is 0.18578111273335648, accuracy is 0.9203778677462888: 100%|\u001b[31m███\u001b[0m| 47/47 [00:00<00:00, 379.04it/s]\u001b[0m\n",
      "[valid epoch 9], loss is 0.30635848063975574, accuracy is 0.9119496855345912: 100%|\u001b[31m███\u001b[0m| 20/20 [00:00<00:00, 869.64it/s]\u001b[0m\n",
      "[train epoch 10], loss is 0.13834308551505525, accuracy is 0.9392712550607287: 100%|\u001b[31m██\u001b[0m| 47/47 [00:00<00:00, 361.54it/s]\u001b[0m\n",
      "[valid epoch 10], loss is 0.1335486021824181, accuracy is 0.9559748427672956: 100%|\u001b[31m██\u001b[0m| 20/20 [00:00<00:00, 1111.13it/s]\u001b[0m\n",
      "[train epoch 11], loss is 0.16233224493074924, accuracy is 0.9257759784075573: 100%|\u001b[31m██\u001b[0m| 47/47 [00:00<00:00, 367.19it/s]\u001b[0m\n",
      "[valid epoch 11], loss is 0.1205494889523834, accuracy is 0.9213836477987422: 100%|\u001b[31m███\u001b[0m| 20/20 [00:00<00:00, 909.14it/s]\u001b[0m\n",
      "[train epoch 12], loss is 0.16069670705164366, accuracy is 0.9271255060728745: 100%|\u001b[31m██\u001b[0m| 47/47 [00:00<00:00, 346.01it/s]\u001b[0m\n",
      "[valid epoch 12], loss is 0.16259425703901798, accuracy is 0.9119496855345912: 100%|\u001b[31m██\u001b[0m| 20/20 [00:00<00:00, 952.48it/s]\u001b[0m\n",
      "[train epoch 13], loss is 0.13979445964573545, accuracy is 0.9446693657219973: 100%|\u001b[31m██\u001b[0m| 47/47 [00:00<00:00, 321.92it/s]\u001b[0m\n",
      "[valid epoch 13], loss is 0.5534314503893256, accuracy is 0.8490566037735849: 100%|\u001b[31m███\u001b[0m| 20/20 [00:00<00:00, 869.61it/s]\u001b[0m\n",
      "[train epoch 14], loss is 0.137903621712541, accuracy is 0.9446693657219973: 100%|\u001b[31m████\u001b[0m| 47/47 [00:00<00:00, 356.06it/s]\u001b[0m\n",
      "[valid epoch 14], loss is 0.2978646658826619, accuracy is 0.8962264150943396: 100%|\u001b[31m███\u001b[0m| 20/20 [00:00<00:00, 952.42it/s]\u001b[0m\n",
      "[train epoch 15], loss is 0.15589634027886898, accuracy is 0.9379217273954116: 100%|\u001b[31m██\u001b[0m| 47/47 [00:00<00:00, 350.75it/s]\u001b[0m\n",
      "[valid epoch 15], loss is 0.6877398792654276, accuracy is 0.8081761006289309: 100%|\u001b[31m███\u001b[0m| 20/20 [00:00<00:00, 952.43it/s]\u001b[0m\n",
      "[train epoch 16], loss is 0.15213731089805035, accuracy is 0.9379217273954116: 100%|\u001b[31m██\u001b[0m| 47/47 [00:00<00:00, 333.33it/s]\u001b[0m\n",
      "[valid epoch 16], loss is 0.1134283473715186, accuracy is 0.9433962264150944: 100%|\u001b[31m███\u001b[0m| 20/20 [00:00<00:00, 952.43it/s]\u001b[0m\n",
      "[train epoch 17], loss is 0.1343955019924869, accuracy is 0.9392712550607287: 100%|\u001b[31m███\u001b[0m| 47/47 [00:00<00:00, 353.39it/s]\u001b[0m\n",
      "[valid epoch 17], loss is 0.12234044317156076, accuracy is 0.9308176100628931: 100%|\u001b[31m█\u001b[0m| 20/20 [00:00<00:00, 1250.09it/s]\u001b[0m\n",
      "[train epoch 18], loss is 0.14016619096807342, accuracy is 0.9433198380566802: 100%|\u001b[31m██\u001b[0m| 47/47 [00:00<00:00, 370.09it/s]\u001b[0m\n",
      "[valid epoch 18], loss is 0.21255127332406118, accuracy is 0.9245283018867925: 100%|\u001b[31m██\u001b[0m| 20/20 [00:00<00:00, 909.07it/s]\u001b[0m\n",
      "[train epoch 19], loss is 0.11583901688139489, accuracy is 0.9473684210526315: 100%|\u001b[31m██\u001b[0m| 47/47 [00:00<00:00, 388.43it/s]\u001b[0m\n",
      "[valid epoch 19], loss is 0.30969852637499573, accuracy is 0.8459119496855346: 100%|\u001b[31m██\u001b[0m| 20/20 [00:00<00:00, 909.10it/s]\u001b[0m\n"
     ]
    }
   ],
   "source": [
    "best_accuracy = 0.0\n",
    "\n",
    "for epoch in range(epochs):\n",
    "    \n",
    "    train_loss, train_accuracy = train_step(model, optimizer, train_loader, epoch, device)\n",
    "    \n",
    "    valid_loss, valid_accuracy = valid_step(model, valid_loader, epoch, device)\n",
    "    \n",
    "    if valid_accuracy > best_accuracy:\n",
    "        checkpoint = {'model': model.state_dict(),\n",
    "                      'optimizer': optimizer.state_dict(),\n",
    "                      'best_accuracy': valid_accuracy}\n",
    "        best_accuracy = valid_accuracy\n",
    "        \n",
    "        torch.save(checkpoint, 'model.pth')"
   ]
  },
  {
   "cell_type": "code",
   "execution_count": 43,
   "id": "81259db9-ef11-4ce4-9dc4-2b7d0714d0f4",
   "metadata": {},
   "outputs": [
    {
     "data": {
      "text/plain": [
       "0.9717"
      ]
     },
     "execution_count": 43,
     "metadata": {},
     "output_type": "execute_result"
    }
   ],
   "source": [
    "best_accuracy"
   ]
  },
  {
   "cell_type": "code",
   "execution_count": 46,
   "id": "ab613e14-035b-48a1-9b45-bfd834526eea",
   "metadata": {},
   "outputs": [],
   "source": [
    "def Plot_ROC(net, val_loader):\n",
    "    try:\n",
    "        json_file = open('./classes_indices.json', 'r')\n",
    "        class_indict = json.load(json_file)\n",
    "    except Exception as e:\n",
    "        print(e)\n",
    "        exit(-1)\n",
    "\n",
    "    score_list = []  # 存储预测得分\n",
    "    label_list = []  # 存储真实标签\n",
    "    \n",
    "    net.load_state_dict(torch.load('./model.pth')['model'])\n",
    "\n",
    "    for i, data in enumerate(val_loader):\n",
    "        x, y = data\n",
    "        x, y = x.to(device), y.to(device)\n",
    "        outputs = torch.softmax(net(x), dim=1)\n",
    "        score_tmp = outputs\n",
    "        score_list.extend(score_tmp.detach().cpu().numpy())\n",
    "        label_list.extend(y.cpu().numpy())\n",
    "\n",
    "    score_array = np.array(score_list)\n",
    "    # 将label转换成onehot形式\n",
    "    label_tensor = torch.tensor(label_list)\n",
    "    label_tensor = label_tensor.reshape((label_tensor.shape[0], 1))\n",
    "    label_onehot = torch.zeros(label_tensor.shape[0], len(set(label_list)))\n",
    "    label_onehot.scatter_(dim=1, index=label_tensor, value=1)\n",
    "    label_onehot = np.array(label_onehot)\n",
    "\n",
    "    print(\"score_array:\", score_array.shape)  # (batchsize, classnum)\n",
    "    print(\"label_onehot:\", label_onehot.shape)  # torch.Size([batchsize, classnum])\n",
    "\n",
    "    # 调用sklearn库，计算每个类别对应的fpr和tpr\n",
    "    fpr_dict = dict()\n",
    "    tpr_dict = dict()\n",
    "    roc_auc_dict = dict()\n",
    "    for i in range(len(set(label_list))):\n",
    "        fpr_dict[i], tpr_dict[i], _ = roc_curve(label_onehot[:, i], score_array[:, i])\n",
    "        roc_auc_dict[i] = auc(fpr_dict[i], tpr_dict[i])\n",
    "    # micro\n",
    "    fpr_dict[\"micro\"], tpr_dict[\"micro\"], _ = roc_curve(label_onehot.ravel(), score_array.ravel())\n",
    "    roc_auc_dict[\"micro\"] = auc(fpr_dict[\"micro\"], tpr_dict[\"micro\"])\n",
    "\n",
    "    # macro\n",
    "    # First aggregate all false positive rates\n",
    "    all_fpr = np.unique(np.concatenate([fpr_dict[i] for i in range(len(set(label_list)))]))\n",
    "    # Then interpolate all ROC curves at this points\n",
    "    mean_tpr = np.zeros_like(all_fpr)\n",
    "\n",
    "    for i in range(len(set(label_list))):\n",
    "        mean_tpr += interp(all_fpr, fpr_dict[i], tpr_dict[i])\n",
    "\n",
    "    # Finally average it and compute AUC\n",
    "    mean_tpr /= len(set(label_list))\n",
    "    fpr_dict[\"macro\"] = all_fpr\n",
    "    tpr_dict[\"macro\"] = mean_tpr\n",
    "    roc_auc_dict[\"macro\"] = auc(fpr_dict[\"macro\"], tpr_dict[\"macro\"])\n",
    "\n",
    "    # 绘制所有类别平均的roc曲线\n",
    "    plt.figure(figsize=(8, 8))\n",
    "    lw = 2\n",
    "    plt.plot(fpr_dict[\"micro\"], tpr_dict[\"micro\"],\n",
    "             label='micro-average ROC curve (area = {0:0.2f})'\n",
    "                   ''.format(roc_auc_dict[\"micro\"]),\n",
    "             color='deeppink', linestyle=':', linewidth=4)\n",
    "\n",
    "    plt.plot(fpr_dict[\"macro\"], tpr_dict[\"macro\"],\n",
    "             label='macro-average ROC curve (area = {0:0.2f})'\n",
    "                   ''.format(roc_auc_dict[\"macro\"]),\n",
    "             color='navy', linestyle=':', linewidth=4)\n",
    "\n",
    "    colors = cycle(['aqua', 'darkorange', 'cornflowerblue'])\n",
    "    for i, color in zip(range(len(set(label_list))), colors):\n",
    "        plt.plot(fpr_dict[i], tpr_dict[i], color=color, lw=lw,\n",
    "                 label='ROC curve of class {0} (area = {1:0.2f})'\n",
    "                       ''.format(class_indict[str(i)], roc_auc_dict[i]))\n",
    "\n",
    "    plt.plot([0, 1], [0, 1], 'k--', lw=lw, label='Chance', color='red')\n",
    "    plt.xlim([0.0, 1.01])\n",
    "    plt.ylim([0.0, 1.01])\n",
    "    plt.xlabel('False Positive Rate')\n",
    "    plt.ylabel('True Positive Rate')\n",
    "    plt.title('Receiver operating characteristic to multi-class')\n",
    "    plt.legend(loc=\"lower right\")\n",
    "    # plt.savefig('multi_class_ROC.png')\n",
    "    plt.show()"
   ]
  },
  {
   "cell_type": "code",
   "execution_count": 47,
   "id": "25624304-f839-4306-9632-ec8ad6348939",
   "metadata": {},
   "outputs": [
    {
     "name": "stdout",
     "output_type": "stream",
     "text": [
      "score_array: (318, 3)\n",
      "label_onehot: (318, 3)\n"
     ]
    },
    {
     "name": "stderr",
     "output_type": "stream",
     "text": [
      "C:\\Users\\Administrator\\AppData\\Local\\Temp\\ipykernel_17328\\880736326.py:78: UserWarning: color is redundantly defined by the 'color' keyword argument and the fmt string \"k--\" (-> color='k'). The keyword argument will take precedence.\n",
      "  plt.plot([0, 1], [0, 1], 'k--', lw=lw, label='Chance', color='red')\n"
     ]
    },
    {
     "data": {
      "image/png": "[encoded data removed]",
      "text/plain": [
       "<Figure size 800x800 with 1 Axes>"
      ]
     },
     "metadata": {},
     "output_type": "display_data"
    }
   ],
   "source": [
    "Plot_ROC(model, valid_loader)"
   ]
  },
  {
   "cell_type": "code",
   "execution_count": 48,
   "id": "dcffcc73-5911-40b8-bacf-61c3420f4264",
   "metadata": {},
   "outputs": [],
   "source": [
    "def Predictor(net, valid_loader):\n",
    "    try:\n",
    "        json_file = open('./classes_indices.json', 'r')\n",
    "        class_indict = json.load(json_file)\n",
    "    except Exception as e:\n",
    "        print(e)\n",
    "        exit(-1)\n",
    "\n",
    "    y_true, y_pred = [], []\n",
    "    errors = 0\n",
    "    net.eval()\n",
    "    net.load_state_dict(torch.load('./model.pth')['model'])\n",
    "    with torch.no_grad():\n",
    "        for step, data in enumerate(valid_loader):\n",
    "            x, y = data\n",
    "            x, y = x.to(device), y.to(device)\n",
    "            predictions = net(x)\n",
    "            predictions = torch.argmax(\n",
    "                torch.softmax(predictions, dim=1), dim=1)\n",
    "            for i in range(len(predictions)):\n",
    "                y_true.append(y[i].cpu())\n",
    "                y_pred.append(predictions[i].cpu())\n",
    "\n",
    "    tests = len(y_true)\n",
    "    for i in range(tests):\n",
    "        pred_index = y_pred[i]\n",
    "        true_index = y_true[i]\n",
    "        if pred_index != true_index:\n",
    "            errors += 1\n",
    "\n",
    "    acc = (1 - errors / tests) * 100\n",
    "    print(f'there were {errors} errors in {tests} tests for an accuracy of {acc:6.2f}%')\n",
    "\n",
    "    ypred = np.array(y_pred)\n",
    "    ytrue = np.array(y_true)\n",
    "\n",
    "    f1score = f1_score(ytrue, ypred, average='weighted') * 100\n",
    "    print(f'The F1-score was {f1score:.3f}')\n",
    "\n",
    "    class_count = len(list(class_indict.values()))\n",
    "    classes = list(class_indict.values())\n",
    "\n",
    "    cm = confusion_matrix(ytrue, ypred)\n",
    "    plt.figure(figsize=(16, 8))\n",
    "    plt.subplot(1, 2, 1)\n",
    "    sns.heatmap(cm, annot=True, vmin=0, fmt='g', cmap='Blues', cbar=False)\n",
    "    plt.xticks(np.arange(class_count) + .5, classes, rotation=0, fontsize=14)\n",
    "    plt.yticks(np.arange(class_count) + .5, classes, rotation=0, fontsize=14)\n",
    "    plt.xlabel(\"Predicted\", fontsize=14)\n",
    "    plt.ylabel(\"Actual\", fontsize=14)\n",
    "    plt.title(\"Confusion Matrix\")\n",
    "\n",
    "    plt.subplot(1, 2, 2)\n",
    "    sns.heatmap(cm / np.sum(cm), annot=True, fmt='.1%')\n",
    "    plt.xlabel('Predicted Label', fontsize=14)\n",
    "    plt.xticks(np.arange(class_count) + .5, classes, rotation=0, fontsize=14)\n",
    "    plt.ylabel('True Label', fontsize=14)\n",
    "    plt.yticks(np.arange(class_count) + .5, classes, rotation=0, fontsize=14)\n",
    "    plt.show()\n",
    "\n",
    "    clr = classification_report(y_true, y_pred, target_names=classes, digits=4)\n",
    "    print(\"Classification Report:\\n----------------------\\n\", clr)"
   ]
  },
  {
   "cell_type": "code",
   "execution_count": 49,
   "id": "72395bde-2bcb-45f3-8812-7116d2d40c53",
   "metadata": {},
   "outputs": [
    {
     "name": "stdout",
     "output_type": "stream",
     "text": [
      "there were 9 errors in 318 tests for an accuracy of  97.17%\n",
      "The F1-score was 97.157\n"
     ]
    },
    {
     "data": {
      "image/png": "[encoded data removed]",
      "text/plain": [
       "<Figure size 1600x800 with 3 Axes>"
      ]
     },
     "metadata": {},
     "output_type": "display_data"
    },
    {
     "name": "stdout",
     "output_type": "stream",
     "text": [
      "Classification Report:\n",
      "----------------------\n",
      "               precision    recall  f1-score   support\n",
      "\n",
      "        high     0.9429    0.9296    0.9362        71\n",
      "         low     0.9860    1.0000    0.9930       141\n",
      "      medium     0.9714    0.9623    0.9668       106\n",
      "\n",
      "    accuracy                         0.9717       318\n",
      "   macro avg     0.9668    0.9639    0.9653       318\n",
      "weighted avg     0.9715    0.9717    0.9716       318\n",
      "\n"
     ]
    }
   ],
   "source": [
    "Predictor(model, valid_loader)"
   ]
  },
  {
   "cell_type": "code",
   "execution_count": null,
   "id": "9aa641e8-1353-4090-b0b1-a4b69e2fa843",
   "metadata": {},
   "outputs": [],
   "source": []
  }
 ],
 "metadata": {
  "kernelspec": {
   "display_name": "Python 3 (ipykernel)",
   "language": "python",
   "name": "python3"
  },
  "language_info": {
   "codemirror_mode": {
    "name": "ipython",
    "version": 3
   },
   "file_extension": ".py",
   "mimetype": "text/x-python",
   "name": "python",
   "nbconvert_exporter": "python",
   "pygments_lexer": "ipython3",
   "version": "3.9.15"
  }
 },
 "nbformat": 4,
 "nbformat_minor": 5
}
